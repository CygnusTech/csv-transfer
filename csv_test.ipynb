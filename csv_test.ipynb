{
 "cells": [
  {
   "cell_type": "code",
   "execution_count": 3,
   "metadata": {
    "collapsed": true
   },
   "outputs": [],
   "source": [
    "import time\n",
    "import os\n",
    "import yaml\n",
    "from pprint import pprint\n",
    "from IPython.lib.deepreload import reload as dreload"
   ]
  },
  {
   "cell_type": "code",
   "execution_count": 2,
   "metadata": {
    "collapsed": false
   },
   "outputs": [],
   "source": [
    "import csv_reader"
   ]
  },
  {
   "cell_type": "code",
   "execution_count": 7,
   "metadata": {
    "collapsed": false,
    "scrolled": true
   },
   "outputs": [
    {
     "data": {
      "text/plain": [
       "<module 'csv_reader' from 'csv_reader.py'>"
      ]
     },
     "execution_count": 7,
     "metadata": {},
     "output_type": "execute_result"
    }
   ],
   "source": [
    "reload(csv_reader)"
   ]
  },
  {
   "cell_type": "code",
   "execution_count": 8,
   "metadata": {
    "collapsed": false,
    "scrolled": true
   },
   "outputs": [
    {
     "name": "stdout",
     "output_type": "stream",
     "text": [
      "[{'JNU_ElectricityHP1out': 2583.446, 'JNU_Coil2T': 22.38349, 'JNU_FlowHP2': 4.690861, 'JNU_FlowHP1': 6.407225, 'JNU_ElectricityHP2hydro': -15.07344, 'JNU_ElectricityHP1hydro': 10.64391, 'JNU_SupplyTDHW': 83.29142, 'JNU_SupplyTHP2': 99.71693, 'JNU_SupplyTHP1': 100.891, 'ts': 1450825920.0, 'JNU_ReturnTHP1': 94.48407, 'JNU_ReturnTHP2': 94.22565, 'JNU_ElectricityDHW': 2.668168, 'JNU_ReturnTDHW': 83.89145, 'JNU_OutsideT': 34.8592, 'JNU_FlowDHW': 0.03566723, 'JNU_Flowhouse': 11.02692, 'JNU_ReturnThouse': 93.83338, 'JNU_ElectricityHP2out': 1975.96, 'JNU_SupplyThouse': 100.4715, 'JNU_Coil1T': 33.68258}, {'JNU_ElectricityHP1out': 2358.623, 'JNU_Coil2T': 22.28709, 'JNU_FlowHP2': 4.679901, 'JNU_FlowHP1': 6.455589, 'JNU_ElectricityHP2hydro': -9.892106, 'JNU_ElectricityHP1hydro': 6.06844, 'JNU_SupplyTDHW': 83.29142, 'JNU_SupplyTHP2': 100.5397, 'JNU_SupplyTHP1': 102.6576, 'ts': 1450825980.0, 'JNU_ReturnTHP1': 95.74358, 'JNU_ReturnTHP2': 95.63251, 'JNU_ElectricityDHW': 5.60509, 'JNU_ReturnTDHW': 83.89145, 'JNU_OutsideT': 34.80716, 'JNU_FlowDHW': 0.02708979, 'JNU_Flowhouse': 10.99332, 'JNU_ReturnThouse': 95.08754, 'JNU_ElectricityHP2out': 324.7779, 'JNU_SupplyThouse': 101.6953, 'JNU_Coil1T': 33.51347}, {'JNU_ElectricityHP1out': 2037.21, 'JNU_Coil2T': 22.5146, 'JNU_FlowHP2': 4.706816, 'JNU_FlowHP1': 6.435567, 'JNU_ElectricityHP2hydro': -7.497264, 'JNU_ElectricityHP1hydro': 5.80596, 'JNU_SupplyTDHW': 83.29154, 'JNU_SupplyTHP2': 97.30459, 'JNU_SupplyTHP1': 103.1453, 'ts': 1450826040.0, 'JNU_ReturnTHP1': 96.39719, 'JNU_ReturnTHP2': 96.38634, 'JNU_ElectricityDHW': 5.212696, 'JNU_ReturnTDHW': 83.8915, 'JNU_OutsideT': 34.81381, 'JNU_FlowDHW': 0.03208895, 'JNU_Flowhouse': 11.0169, 'JNU_ReturnThouse': 95.8667, 'JNU_ElectricityHP2out': 247.4308, 'JNU_SupplyThouse': 100.4546, 'JNU_Coil1T': 33.77544}, {'JNU_ElectricityHP1out': 2255.018, 'JNU_Coil2T': 22.20605, 'JNU_FlowHP2': 4.659404, 'JNU_FlowHP1': 6.436996, 'JNU_ElectricityHP2hydro': -9.044274, 'JNU_ElectricityHP1hydro': 5.956774, 'JNU_SupplyTDHW': 83.29154, 'JNU_SupplyTHP2': 96.33182, 'JNU_SupplyTHP1': 101.9105, 'ts': 1450826100.0, 'JNU_ReturnTHP1': 95.41622, 'JNU_ReturnTHP2': 95.4391, 'JNU_ElectricityDHW': 5.480712, 'JNU_ReturnTDHW': 83.8843, 'JNU_OutsideT': 34.8723, 'JNU_FlowDHW': 0.03494802, 'JNU_Flowhouse': 11.07432, 'JNU_ReturnThouse': 95.04639, 'JNU_ElectricityHP2out': 248.9592, 'JNU_SupplyThouse': 99.48398, 'JNU_Coil1T': 33.83628}, {'JNU_ElectricityHP1out': 2433.054, 'JNU_Coil2T': 22.29264, 'JNU_FlowHP2': 4.728491, 'JNU_FlowHP1': 6.419597, 'JNU_ElectricityHP2hydro': -10.01246, 'JNU_ElectricityHP1hydro': 6.081056, 'JNU_SupplyTDHW': 83.29158, 'JNU_SupplyTHP2': 95.62561, 'JNU_SupplyTHP1': 102.2115, 'ts': 1450826160.0, 'JNU_ReturnTHP1': 94.9989, 'JNU_ReturnTHP2': 95.04455, 'JNU_ElectricityDHW': 5.676582, 'JNU_ReturnTDHW': 83.8545, 'JNU_OutsideT': 34.92436, 'JNU_FlowDHW': 0.0382801, 'JNU_Flowhouse': 11.00116, 'JNU_ReturnThouse': 94.55789, 'JNU_ElectricityHP2out': 248.5745, 'JNU_SupplyThouse': 99.46283, 'JNU_Coil1T': 33.84182}, {'JNU_ElectricityHP1out': 2410.278, 'JNU_Coil2T': 22.44628, 'JNU_FlowHP2': 4.690132, 'JNU_FlowHP1': 6.458669, 'JNU_ElectricityHP2hydro': -9.942834, 'JNU_ElectricityHP1hydro': 6.07901, 'JNU_SupplyTDHW': 83.29159, 'JNU_SupplyTHP2': 95.13046, 'JNU_SupplyTHP1': 101.7768, 'ts': 1450826220.0, 'JNU_ReturnTHP1': 94.98005, 'JNU_ReturnTHP2': 94.98211, 'JNU_ElectricityDHW': 5.637716, 'JNU_ReturnTDHW': 83.84536, 'JNU_OutsideT': 34.913, 'JNU_FlowDHW': 0.02374619, 'JNU_Flowhouse': 11.03642, 'JNU_ReturnThouse': 94.57893, 'JNU_ElectricityHP2out': 248.6124, 'JNU_SupplyThouse': 98.98386, 'JNU_Coil1T': 33.73876}, {'JNU_ElectricityHP1out': 2380.38, 'JNU_Coil2T': 20.86943, 'JNU_FlowHP2': 4.686792, 'JNU_FlowHP1': 6.439605, 'JNU_ElectricityHP2hydro': -13.28321, 'JNU_ElectricityHP1hydro': 9.250592, 'JNU_SupplyTDHW': 83.29162, 'JNU_SupplyTHP2': 95.26858, 'JNU_SupplyTHP1': 101.5306, 'ts': 1450826280.0, 'JNU_ReturnTHP1': 94.72214, 'JNU_ReturnTHP2': 94.72112, 'JNU_ElectricityDHW': 2.223479, 'JNU_ReturnTDHW': 83.84539, 'JNU_OutsideT': 34.96718, 'JNU_FlowDHW': 0.03184479, 'JNU_Flowhouse': 11.08073, 'JNU_ReturnThouse': 94.29968, 'JNU_ElectricityHP2out': 1545.827, 'JNU_SupplyThouse': 98.9606, 'JNU_Coil1T': 33.752}, {'JNU_ElectricityHP1out': 2099.283, 'JNU_Coil2T': 21.23863, 'JNU_FlowHP2': 4.650814, 'JNU_FlowHP1': 6.451038, 'JNU_ElectricityHP2hydro': -11.42283, 'JNU_ElectricityHP1hydro': 8.943668, 'JNU_SupplyTDHW': 83.29165, 'JNU_SupplyTHP2': 99.37912, 'JNU_SupplyTHP1': 101.3202, 'ts': 1450826340.0, 'JNU_ReturnTHP1': 94.84021, 'JNU_ReturnTHP2': 94.82413, 'JNU_ElectricityDHW': 0.6338972, 'JNU_ReturnTDHW': 83.84542, 'JNU_OutsideT': 34.92338, 'JNU_FlowDHW': 0.03899072, 'JNU_Flowhouse': 10.97256, 'JNU_ReturnThouse': 94.23691, 'JNU_ElectricityHP2out': 1618.74, 'JNU_SupplyThouse': 100.9498, 'JNU_Coil1T': 33.7186}, {'JNU_ElectricityHP1out': 1993.712, 'JNU_Coil2T': 22.18395, 'JNU_FlowHP2': 4.698224, 'JNU_FlowHP1': 6.526562, 'JNU_ElectricityHP2hydro': -10.63193, 'JNU_ElectricityHP1hydro': 8.775807, 'JNU_SupplyTDHW': 83.29165, 'JNU_SupplyTHP2': 100.4985, 'JNU_SupplyTHP1': 101.3328, 'ts': 1450826400.0, 'JNU_ReturnTHP1': 95.95465, 'JNU_ReturnTHP2': 95.86746, 'JNU_ElectricityDHW': 0.04326407, 'JNU_ReturnTDHW': 83.83771, 'JNU_OutsideT': 34.94073, 'JNU_FlowDHW': 0.03898997, 'JNU_Flowhouse': 11.07668, 'JNU_ReturnThouse': 95.41542, 'JNU_ElectricityHP2out': 1632.277, 'JNU_SupplyThouse': 100.9668, 'JNU_Coil1T': 33.74109}, {'JNU_ElectricityHP1out': 1922.717, 'JNU_Coil2T': 22.27251, 'JNU_FlowHP2': 4.674396, 'JNU_FlowHP1': 6.562772, 'JNU_ElectricityHP2hydro': -10.48247, 'JNU_ElectricityHP1hydro': 8.353075, 'JNU_SupplyTDHW': 83.29165, 'JNU_SupplyTHP2': 101.5033, 'JNU_SupplyTHP1': 101.7846, 'ts': 1450826460.0, 'JNU_ReturnTHP1': 96.10779, 'JNU_ReturnTHP2': 96.06955, 'JNU_ElectricityDHW': 0.0, 'JNU_ReturnTDHW': 83.80162, 'JNU_OutsideT': 34.9965, 'JNU_FlowDHW': 0.03612922, 'JNU_Flowhouse': 11.00448, 'JNU_ReturnThouse': 95.55558, 'JNU_ElectricityHP2out': 1623.019, 'JNU_SupplyThouse': 101.7015, 'JNU_Coil1T': 33.831}]\n",
      "1450826460\n",
      "[{'JNU_ElectricityHP1out': 1907.022, 'JNU_Coil2T': 22.24516, 'JNU_FlowHP2': 4.671299, 'JNU_FlowHP1': 6.523699, 'JNU_ElectricityHP2hydro': -10.41255, 'JNU_ElectricityHP1hydro': 8.384987, 'JNU_SupplyTDHW': 83.29165, 'JNU_SupplyTHP2': 101.9633, 'JNU_SupplyTHP1': 102.0812, 'ts': 1450826520.0, 'JNU_ReturnTHP1': 96.63086, 'JNU_ReturnTHP2': 96.58935, 'JNU_ElectricityDHW': 0.0, 'JNU_ReturnTDHW': 83.80066, 'JNU_OutsideT': 35.06412, 'JNU_FlowDHW': 0.03612918, 'JNU_Flowhouse': 11.03927, 'JNU_ReturnThouse': 96.06152, 'JNU_ElectricityHP2out': 1667.04, 'JNU_SupplyThouse': 102.0007, 'JNU_Coil1T': 33.87756}, {'JNU_ElectricityHP1out': 1854.313, 'JNU_Coil2T': 22.03561, 'JNU_FlowHP2': 4.684638, 'JNU_FlowHP1': 6.534654, 'JNU_ElectricityHP2hydro': -10.24931, 'JNU_ElectricityHP1hydro': 7.832327, 'JNU_SupplyTDHW': 83.29165, 'JNU_SupplyTHP2': 102.4588, 'JNU_SupplyTHP1': 102.2258, 'ts': 1450826580.0, 'JNU_ReturnTHP1': 96.88821, 'JNU_ReturnTHP2': 96.85453, 'JNU_ElectricityDHW': 0.0, 'JNU_ReturnTDHW': 83.79926, 'JNU_OutsideT': 35.01225, 'JNU_FlowDHW': 0.02850315, 'JNU_Flowhouse': 11.0121, 'JNU_ReturnThouse': 96.35175, 'JNU_ElectricityHP2out': 1634.237, 'JNU_SupplyThouse': 102.2767, 'JNU_Coil1T': 33.75653}, {'JNU_ElectricityHP1out': 1848.5, 'JNU_Coil2T': 21.86371, 'JNU_FlowHP2': 4.68011, 'JNU_FlowHP1': 6.58421, 'JNU_ElectricityHP2hydro': -9.994394, 'JNU_ElectricityHP1hydro': 6.553795, 'JNU_SupplyTDHW': 83.29165, 'JNU_SupplyTHP2': 102.7017, 'JNU_SupplyTHP1': 102.3906, 'ts': 1450826640.0, 'JNU_ReturnTHP1': 97.16863, 'JNU_ReturnTHP2': 97.14962, 'JNU_ElectricityDHW': 0.06146541, 'JNU_ReturnTDHW': 83.78866, 'JNU_OutsideT': 34.92298, 'JNU_FlowDHW': 0.02064088, 'JNU_Flowhouse': 11.03974, 'JNU_ReturnThouse': 96.62827, 'JNU_ElectricityHP2out': 1417.318, 'JNU_SupplyThouse': 102.4538, 'JNU_Coil1T': 33.84532}, {'JNU_ElectricityHP1out': 1805.7, 'JNU_Coil2T': 21.58693, 'JNU_FlowHP2': 4.663908, 'JNU_FlowHP1': 6.583493, 'JNU_ElectricityHP2hydro': -9.947649, 'JNU_ElectricityHP1hydro': 6.800022, 'JNU_SupplyTDHW': 83.29165, 'JNU_SupplyTHP2': 102.6825, 'JNU_SupplyTHP1': 102.6013, 'ts': 1450826700.0, 'JNU_ReturnTHP1': 97.63846, 'JNU_ReturnTHP2': 97.59397, 'JNU_ElectricityDHW': 0.01711238, 'JNU_ReturnTDHW': 83.7598, 'JNU_OutsideT': 35.01066, 'JNU_FlowDHW': 0.04851504, 'JNU_Flowhouse': 11.02449, 'JNU_ReturnThouse': 97.11275, 'JNU_ElectricityHP2out': 1478.8, 'JNU_SupplyThouse': 102.5537, 'JNU_Coil1T': 33.91597}, {'JNU_ElectricityHP1out': 1778.662, 'JNU_Coil2T': 21.55483, 'JNU_FlowHP2': 4.699168, 'JNU_FlowHP1': 6.608508, 'JNU_ElectricityHP2hydro': -9.68074, 'JNU_ElectricityHP1hydro': 6.017557, 'JNU_SupplyTDHW': 83.29165, 'JNU_SupplyTHP2': 102.8623, 'JNU_SupplyTHP1': 102.7766, 'ts': 1450826760.0, 'JNU_ReturnTHP1': 97.86441, 'JNU_ReturnTHP2': 97.82299, 'JNU_ElectricityDHW': 0.03252593, 'JNU_ReturnTDHW': 83.75307, 'JNU_OutsideT': 35.13606, 'JNU_FlowDHW': 0.04374969, 'JNU_Flowhouse': 11.03664, 'JNU_ReturnThouse': 97.34309, 'JNU_ElectricityHP2out': 1302.632, 'JNU_SupplyThouse': 102.7161, 'JNU_Coil1T': 33.92308}, {'JNU_ElectricityHP1out': 1632.058, 'JNU_Coil2T': 21.46545, 'JNU_FlowHP2': 4.705361, 'JNU_FlowHP1': 6.607078, 'JNU_ElectricityHP2hydro': -8.771636, 'JNU_ElectricityHP1hydro': 5.896074, 'JNU_SupplyTDHW': 83.29841, 'JNU_SupplyTHP2': 102.7622, 'JNU_SupplyTHP1': 102.5805, 'ts': 1450826820.0, 'JNU_ReturnTHP1': 98.01846, 'JNU_ReturnTHP2': 98.00782, 'JNU_ElectricityDHW': 0.1288689, 'JNU_ReturnTDHW': 83.75309, 'JNU_OutsideT': 35.22517, 'JNU_FlowDHW': 0.04589344, 'JNU_Flowhouse': 11.05403, 'JNU_ReturnThouse': 97.5271, 'JNU_ElectricityHP2out': 1258.623, 'JNU_SupplyThouse': 102.6196, 'JNU_Coil1T': 33.97342}, {'JNU_ElectricityHP1out': 1901.313, 'JNU_Coil2T': 20.82859, 'JNU_FlowHP2': 4.658663, 'JNU_FlowHP1': 6.540129, 'JNU_ElectricityHP2hydro': -9.872963, 'JNU_ElectricityHP1hydro': 6.012982, 'JNU_SupplyTDHW': 83.31573, 'JNU_SupplyTHP2': 102.6379, 'JNU_SupplyTHP1': 102.649, 'ts': 1450826880.0, 'JNU_ReturnTHP1': 98.01899, 'JNU_ReturnTHP2': 98.01047, 'JNU_ElectricityDHW': 0.9481807, 'JNU_ReturnTDHW': 83.75313, 'JNU_OutsideT': 35.16041, 'JNU_FlowDHW': 0.03660121, 'JNU_Flowhouse': 11.02043, 'JNU_ReturnThouse': 97.55784, 'JNU_ElectricityHP2out': 1205.994, 'JNU_SupplyThouse': 102.5247, 'JNU_Coil1T': 33.80043}, {'JNU_ElectricityHP1out': 1874.884, 'JNU_Coil2T': 20.73691, 'JNU_FlowHP2': 4.663666, 'JNU_FlowHP1': 6.605409, 'JNU_ElectricityHP2hydro': -9.670462, 'JNU_ElectricityHP1hydro': 6.057751, 'JNU_SupplyTDHW': 83.33588, 'JNU_SupplyTHP2': 102.5446, 'JNU_SupplyTHP1': 102.8511, 'ts': 1450826940.0, 'JNU_ReturnTHP1': 98.15949, 'JNU_ReturnTHP2': 98.13287, 'JNU_ElectricityDHW': 1.162065, 'JNU_ReturnTDHW': 83.75313, 'JNU_OutsideT': 34.97111, 'JNU_FlowDHW': 0.04279548, 'JNU_Flowhouse': 11.01543, 'JNU_ReturnThouse': 97.67866, 'JNU_ElectricityHP2out': 1163.958, 'JNU_SupplyThouse': 102.6334, 'JNU_Coil1T': 33.74619}, {'JNU_ElectricityHP1out': 1589.243, 'JNU_Coil2T': 19.93406, 'JNU_FlowHP2': 4.735617, 'JNU_FlowHP1': 6.618034, 'JNU_ElectricityHP2hydro': -8.551251, 'JNU_ElectricityHP1hydro': 5.893496, 'JNU_SupplyTDHW': 83.33779, 'JNU_SupplyTHP2': 102.5825, 'JNU_SupplyTHP1': 102.5877, 'ts': 1450827000.0, 'JNU_ReturnTHP1': 98.23298, 'JNU_ReturnTHP2': 98.22714, 'JNU_ElectricityDHW': 0.04941125, 'JNU_ReturnTDHW': 83.75313, 'JNU_OutsideT': 34.76428, 'JNU_FlowDHW': 0.0375532, 'JNU_Flowhouse': 11.05831, 'JNU_ReturnThouse': 97.77624, 'JNU_ElectricityHP2out': 1317.209, 'JNU_SupplyThouse': 102.5447, 'JNU_Coil1T': 33.74453}, {'JNU_ElectricityHP1out': 1777.027, 'JNU_Coil2T': 19.84502, 'JNU_FlowHP2': 4.697258, 'JNU_FlowHP1': 6.547989, 'JNU_ElectricityHP2hydro': -9.321554, 'JNU_ElectricityHP1hydro': 5.996901, 'JNU_SupplyTDHW': 83.33779, 'JNU_SupplyTHP2': 102.9447, 'JNU_SupplyTHP1': 102.7284, 'ts': 1450827060.0, 'JNU_ReturnTHP1': 98.21915, 'JNU_ReturnTHP2': 98.21543, 'JNU_ElectricityDHW': 0.5550123, 'JNU_ReturnTDHW': 83.75313, 'JNU_OutsideT': 33.84044, 'JNU_FlowDHW': 0.03755312, 'JNU_Flowhouse': 11.04139, 'JNU_ReturnThouse': 97.73065, 'JNU_ElectricityHP2out': 1160.657, 'JNU_SupplyThouse': 102.7423, 'JNU_Coil1T': 32.42141}]\n",
      "1450827060\n",
      "[{'JNU_ElectricityHP1out': 1741.039, 'JNU_Coil2T': 18.20019, 'JNU_FlowHP2': 4.700592, 'JNU_FlowHP1': 6.635901, 'JNU_ElectricityHP2hydro': -9.448178, 'JNU_ElectricityHP1hydro': 5.990572, 'JNU_SupplyTDHW': 83.33784, 'JNU_SupplyTHP2': 102.817, 'JNU_SupplyTHP1': 102.785, 'ts': 1450827120.0, 'JNU_ReturnTHP1': 98.31507, 'JNU_ReturnTHP2': 98.30602, 'JNU_ElectricityDHW': 0.03446921, 'JNU_ReturnTDHW': 83.75313, 'JNU_OutsideT': 32.90829, 'JNU_FlowDHW': 0.03088121, 'JNU_Flowhouse': 10.99708, 'JNU_ReturnThouse': 97.83252, 'JNU_ElectricityHP2out': 1268.687, 'JNU_SupplyThouse': 102.7313, 'JNU_Coil1T': 31.64181}, {'JNU_ElectricityHP1out': 1685.582, 'JNU_Coil2T': 19.51817, 'JNU_FlowHP2': 4.707739, 'JNU_FlowHP1': 6.72048, 'JNU_ElectricityHP2hydro': -9.267242, 'JNU_ElectricityHP1hydro': 5.971947, 'JNU_SupplyTDHW': 83.33785, 'JNU_SupplyTHP2': 102.9035, 'JNU_SupplyTHP1': 102.704, 'ts': 1450827180.0, 'JNU_ReturnTHP1': 98.28848, 'JNU_ReturnTHP2': 98.28581, 'JNU_ElectricityDHW': 0.03092577, 'JNU_ReturnTDHW': 83.75313, 'JNU_OutsideT': 33.1057, 'JNU_FlowDHW': 0.02778395, 'JNU_Flowhouse': 11.01733, 'JNU_ReturnThouse': 97.83786, 'JNU_ElectricityHP2out': 1323.557, 'JNU_SupplyThouse': 102.7001, 'JNU_Coil1T': 32.58525}, {'JNU_ElectricityHP1out': 1610.761, 'JNU_Coil2T': 20.79418, 'JNU_FlowHP2': 4.699638, 'JNU_FlowHP1': 6.696655, 'JNU_ElectricityHP2hydro': -8.915833, 'JNU_ElectricityHP1hydro': 5.897031, 'JNU_SupplyTDHW': 83.33785, 'JNU_SupplyTHP2': 103.0383, 'JNU_SupplyTHP1': 102.7934, 'ts': 1450827240.0, 'JNU_ReturnTHP1': 98.31457, 'JNU_ReturnTHP2': 98.31669, 'JNU_ElectricityDHW': 0.01546403, 'JNU_ReturnTDHW': 83.75316, 'JNU_OutsideT': 33.99356, 'JNU_FlowDHW': 0.03397808, 'JNU_Flowhouse': 10.97278, 'JNU_ReturnThouse': 97.81449, 'JNU_ElectricityHP2out': 1286.861, 'JNU_SupplyThouse': 102.8301, 'JNU_Coil1T': 33.75001}, {'JNU_ElectricityHP1out': 1534.197, 'JNU_Coil2T': 20.81828, 'JNU_FlowHP2': 4.697017, 'JNU_FlowHP1': 6.605642, 'JNU_ElectricityHP2hydro': -8.033942, 'JNU_ElectricityHP1hydro': 5.823534, 'JNU_SupplyTDHW': 83.33785, 'JNU_SupplyTHP2': 103.0226, 'JNU_SupplyTHP1': 102.5824, 'ts': 1450827300.0, 'JNU_ReturnTHP1': 98.17632, 'JNU_ReturnTHP2': 98.20393, 'JNU_ElectricityDHW': 0.0, 'JNU_ReturnTDHW': 83.75319, 'JNU_OutsideT': 34.42529, 'JNU_FlowDHW': 0.03231019, 'JNU_Flowhouse': 10.95014, 'JNU_ReturnThouse': 97.6626, 'JNU_ElectricityHP2out': 1220.156, 'JNU_SupplyThouse': 102.7123, 'JNU_Coil1T': 33.76379}, {'JNU_ElectricityHP1out': 1482.92, 'JNU_Coil2T': 20.83713, 'JNU_FlowHP2': 4.643411, 'JNU_FlowHP1': 6.672352, 'JNU_ElectricityHP2hydro': -8.402762, 'JNU_ElectricityHP1hydro': 5.883158, 'JNU_SupplyTDHW': 83.34458, 'JNU_SupplyTHP2': 102.4629, 'JNU_SupplyTHP1': 101.9743, 'ts': 1450827360.0, 'JNU_ReturnTHP1': 97.64053, 'JNU_ReturnTHP2': 97.65961, 'JNU_ElectricityDHW': 0.0, 'JNU_ReturnTDHW': 83.75319, 'JNU_OutsideT': 34.04327, 'JNU_FlowDHW': 0.0282597, 'JNU_Flowhouse': 10.99112, 'JNU_ReturnThouse': 97.18824, 'JNU_ElectricityHP2out': 1396.204, 'JNU_SupplyThouse': 102.0499, 'JNU_Coil1T': 32.87426}, {'JNU_ElectricityHP1out': 1486.028, 'JNU_Coil2T': 20.79555, 'JNU_FlowHP2': 4.712264, 'JNU_FlowHP1': 6.659962, 'JNU_ElectricityHP2hydro': -8.042359, 'JNU_ElectricityHP1hydro': 5.828, 'JNU_SupplyTDHW': 83.3633, 'JNU_SupplyTHP2': 102.4694, 'JNU_SupplyTHP1': 101.4749, 'ts': 1450827420.0, 'JNU_ReturnTHP1': 97.23002, 'JNU_ReturnTHP2': 97.26386, 'JNU_ElectricityDHW': 0.0, 'JNU_ReturnTDHW': 83.75319, 'JNU_OutsideT': 33.99864, 'JNU_FlowDHW': 0.03683637, 'JNU_Flowhouse': 11.02566, 'JNU_ReturnThouse': 96.75562, 'JNU_ElectricityHP2out': 1379.636, 'JNU_SupplyThouse': 101.8394, 'JNU_Coil1T': 32.89359}, {'JNU_ElectricityHP1out': 1613.034, 'JNU_Coil2T': 20.84558, 'JNU_FlowHP2': 4.717268, 'JNU_FlowHP1': 6.650909, 'JNU_ElectricityHP2hydro': -9.45618, 'JNU_ElectricityHP1hydro': 5.997632, 'JNU_SupplyTDHW': 83.3825, 'JNU_SupplyTHP2': 102.1463, 'JNU_SupplyTHP1': 101.3716, 'ts': 1450827480.0, 'JNU_ReturnTHP1': 97.06107, 'JNU_ReturnTHP2': 97.07374, 'JNU_ElectricityDHW': 0.0, 'JNU_ReturnTDHW': 83.76856, 'JNU_OutsideT': 34.42035, 'JNU_FlowDHW': 0.04374553, 'JNU_Flowhouse': 11.01756, 'JNU_ReturnThouse': 96.58637, 'JNU_ElectricityHP2out': 1494.17, 'JNU_SupplyThouse': 101.589, 'JNU_Coil1T': 33.70943}, {'JNU_ElectricityHP1out': 1640.352, 'JNU_Coil2T': 20.70436, 'JNU_FlowHP2': 4.683912, 'JNU_FlowHP1': 6.695937, 'JNU_ElectricityHP2hydro': -9.364886, 'JNU_ElectricityHP1hydro': 5.995826, 'JNU_SupplyTDHW': 83.38394, 'JNU_SupplyTHP2': 102.153, 'JNU_SupplyTHP1': 101.186, 'ts': 1450827540.0, 'JNU_ReturnTHP1': 96.88715, 'JNU_ReturnTHP2': 96.8845, 'JNU_ElectricityDHW': 0.0, 'JNU_ReturnTDHW': 83.79938, 'JNU_OutsideT': 34.4595, 'JNU_FlowDHW': 0.03254739, 'JNU_Flowhouse': 10.97682, 'JNU_ReturnThouse': 96.40888, 'JNU_ElectricityHP2out': 1445.162, 'JNU_SupplyThouse': 101.4989, 'JNU_Coil1T': 32.80794}, {'JNU_ElectricityHP1out': 1629.926, 'JNU_Coil2T': 20.05221, 'JNU_FlowHP2': 4.743236, 'JNU_FlowHP1': 6.608738, 'JNU_ElectricityHP2hydro': -9.088708, 'JNU_ElectricityHP1hydro': 5.95533, 'JNU_SupplyTDHW': 83.38394, 'JNU_SupplyTHP2': 102.0161, 'JNU_SupplyTHP1': 101.0667, 'ts': 1450827600.0, 'JNU_ReturnTHP1': 96.82188, 'JNU_ReturnTHP2': 96.82241, 'JNU_ElectricityDHW': 0.0, 'JNU_ReturnTDHW': 83.79938, 'JNU_OutsideT': 33.90508, 'JNU_FlowDHW': 0.02825887, 'JNU_Flowhouse': 11.04258, 'JNU_ReturnThouse': 96.3355, 'JNU_ElectricityHP2out': 1370.171, 'JNU_SupplyThouse': 101.3804, 'JNU_Coil1T': 31.48265}, {'JNU_ElectricityHP1out': 1627.02, 'JNU_Coil2T': 19.97381, 'JNU_FlowHP2': 4.702018, 'JNU_FlowHP1': 6.5892, 'JNU_ElectricityHP2hydro': -9.08446, 'JNU_ElectricityHP1hydro': 5.938763, 'JNU_SupplyTDHW': 83.38394, 'JNU_SupplyTHP2': 101.9036, 'JNU_SupplyTHP1': 100.9034, 'ts': 1450827660.0, 'JNU_ReturnTHP1': 96.69877, 'JNU_ReturnTHP2': 96.70298, 'JNU_ElectricityDHW': 0.0, 'JNU_ReturnTDHW': 83.8013, 'JNU_OutsideT': 33.68483, 'JNU_FlowDHW': 0.02254041, 'JNU_Flowhouse': 11.02947, 'JNU_ReturnThouse': 96.22914, 'JNU_ElectricityHP2out': 1320.936, 'JNU_SupplyThouse': 101.2358, 'JNU_Coil1T': 31.43545}]\n",
      "1450827660\n",
      "30 66 records / second\n"
     ]
    }
   ],
   "source": [
    "i = 0\n",
    "st = time.time()\n",
    "for recs, last_ts in csv_reader.CSVReader('CS_test.csv', chunk_size=10, header_rows=4, name_row=2,\n",
    "                                 field_map=\"lambda nm: '_'.join(nm.split('_')[:2])\",\n",
    "                                 ts_tz='America/Anchorage', exclude_fields=['RECORD']):\n",
    "    print recs\n",
    "    print last_ts\n",
    "    i += len(recs)\n",
    "\n",
    "elapsed = time.time() - st\n",
    "print i, '%.0f records / second' % (i/elapsed)\n",
    "# runs at about 6,000 records per second."
   ]
  },
  {
   "cell_type": "code",
   "execution_count": 6,
   "metadata": {
    "collapsed": false
   },
   "outputs": [
    {
     "name": "stdout",
     "output_type": "stream",
     "text": [
      "{'bmon_store_key': 'xyz123',\n",
      " 'bmon_url': 'https://bmon.analysisnorth.com/store/',\n",
      " 'check_interval': 30,\n",
      " 'files': [{'chunk_size': 10,\n",
      "            'exclude_fields': ['RECORD'],\n",
      "            'field_map': \"lambda nm: '_'.join(nm.split('_')[:2])\",\n",
      "            'file_glob': '*.csv',\n",
      "            'header_rows': 4,\n",
      "            'name_row': 2,\n",
      "            'ts_tz': 'America/Anchorage'}]}\n"
     ]
    }
   ],
   "source": [
    "config = yaml.load(open('sample_config.yaml'))\n",
    "pprint(config)"
   ]
  },
  {
   "cell_type": "code",
   "execution_count": 5,
   "metadata": {
    "collapsed": false
   },
   "outputs": [
    {
     "data": {
      "text/plain": [
       "10"
      ]
     },
     "execution_count": 5,
     "metadata": {},
     "output_type": "execute_result"
    }
   ],
   "source": [
    "import logging\n",
    "getattr(logging, 'CRITICALx', 10)"
   ]
  },
  {
   "cell_type": "code",
   "execution_count": 6,
   "metadata": {
    "collapsed": false
   },
   "outputs": [
    {
     "data": {
      "text/plain": [
       "'TEST'"
      ]
     },
     "execution_count": 6,
     "metadata": {},
     "output_type": "execute_result"
    }
   ],
   "source": [
    "'test'.upper()"
   ]
  }
 ],
 "metadata": {
  "kernelspec": {
   "display_name": "Python 2",
   "language": "python",
   "name": "python2"
  },
  "language_info": {
   "codemirror_mode": {
    "name": "ipython",
    "version": 2
   },
   "file_extension": ".py",
   "mimetype": "text/x-python",
   "name": "python",
   "nbconvert_exporter": "python",
   "pygments_lexer": "ipython2",
   "version": "2.7.11"
  }
 },
 "nbformat": 4,
 "nbformat_minor": 0
}
